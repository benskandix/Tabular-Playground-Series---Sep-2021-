{
 "cells": [
  {
   "cell_type": "markdown",
   "metadata": {
    "papermill": {
     "duration": 0.014143,
     "end_time": "2021-09-28T14:03:49.556145",
     "exception": false,
     "start_time": "2021-09-28T14:03:49.542002",
     "status": "completed"
    },
    "tags": []
   },
   "source": [
    "# Libraries\n",
    "---"
   ]
  },
  {
   "cell_type": "code",
   "execution_count": 1,
   "metadata": {
    "_cell_guid": "b1076dfc-b9ad-4769-8c92-a6c4dae69d19",
    "_uuid": "8f2839f25d086af736a60e9eeb907d3b93b6e0e5",
    "execution": {
     "iopub.execute_input": "2021-09-30T20:02:11.895104Z",
     "iopub.status.busy": "2021-09-30T20:02:11.894530Z",
     "iopub.status.idle": "2021-09-30T20:02:12.893107Z",
     "shell.execute_reply": "2021-09-30T20:02:12.892375Z",
     "shell.execute_reply.started": "2021-09-30T20:02:11.895015Z"
    },
    "papermill": {
     "duration": 1.334628,
     "end_time": "2021-09-28T14:03:50.904356",
     "exception": false,
     "start_time": "2021-09-28T14:03:49.569728",
     "status": "completed"
    },
    "tags": []
   },
   "outputs": [],
   "source": [
    "import pandas as pd\n",
    "import numpy as np\n",
    "import random\n",
    "import time\n",
    "import os\n",
    "import gc\n",
    "\n",
    "from sklearn.model_selection import StratifiedKFold\n",
    "from sklearn.preprocessing import StandardScaler, MinMaxScaler, RobustScaler\n",
    "from sklearn.pipeline import Pipeline\n",
    "from sklearn.impute import SimpleImputer\n",
    "from sklearn.metrics import roc_auc_score\n",
    "from tqdm import tqdm\n",
    "\n",
    "from xgboost import XGBClassifier\n",
    "\n",
    "import warnings\n",
    "warnings.simplefilter('ignore')"
   ]
  },
  {
   "cell_type": "markdown",
   "metadata": {
    "papermill": {
     "duration": 0.013053,
     "end_time": "2021-09-28T14:03:51.06405",
     "exception": false,
     "start_time": "2021-09-28T14:03:51.050997",
     "status": "completed"
    },
    "tags": []
   },
   "source": [
    "# Datasets\n",
    "---"
   ]
  },
  {
   "cell_type": "code",
   "execution_count": 2,
   "metadata": {
    "execution": {
     "iopub.execute_input": "2021-09-30T20:02:53.283187Z",
     "iopub.status.busy": "2021-09-30T20:02:53.282923Z",
     "iopub.status.idle": "2021-09-30T20:03:34.509792Z",
     "shell.execute_reply": "2021-09-30T20:03:34.509014Z",
     "shell.execute_reply.started": "2021-09-30T20:02:53.283160Z"
    },
    "papermill": {
     "duration": 39.984218,
     "end_time": "2021-09-28T14:04:31.060831",
     "exception": false,
     "start_time": "2021-09-28T14:03:51.076613",
     "status": "completed"
    },
    "tags": []
   },
   "outputs": [],
   "source": [
    "url = \"../input/tabular-playground-series-sep-2021/\"\n",
    "\n",
    "train = pd.read_csv(url + \"train.csv\")\n",
    "test = pd.read_csv(url + \"test.csv\")\n",
    "submission = pd.read_csv(url + \"sample_solution.csv\")\n",
    "\n",
    "features = [col for col in test.columns if 'f' in col]\n",
    "target = train['claim']"
   ]
  },
  {
   "cell_type": "markdown",
   "metadata": {},
   "source": [
    "Idea taken from TPS Sep 2021 xgb early stopping rounds"
   ]
  },
  {
   "cell_type": "code",
   "execution_count": 6,
   "metadata": {
    "execution": {
     "iopub.execute_input": "2021-09-30T20:06:27.798416Z",
     "iopub.status.busy": "2021-09-30T20:06:27.798151Z",
     "iopub.status.idle": "2021-09-30T20:07:38.686007Z",
     "shell.execute_reply": "2021-09-30T20:07:38.685253Z",
     "shell.execute_reply.started": "2021-09-30T20:06:27.798389Z"
    },
    "papermill": {
     "duration": 50.484421,
     "end_time": "2021-09-28T14:05:27.989344",
     "exception": false,
     "start_time": "2021-09-28T14:04:37.504923",
     "status": "completed"
    },
    "tags": []
   },
   "outputs": [],
   "source": [
    "pipeline = Pipeline([\n",
    "    ('impute', SimpleImputer(strategy='median')),\n",
    "    ('scale', RobustScaler()) \n",
    "])\n",
    "train[features] = pipeline.fit_transform(train[features])\n",
    "test[features] = pipeline.transform(test[features])"
   ]
  },
  {
   "cell_type": "markdown",
   "metadata": {
    "papermill": {
     "duration": 0.012786,
     "end_time": "2021-09-28T14:05:28.05297",
     "exception": false,
     "start_time": "2021-09-28T14:05:28.040184",
     "status": "completed"
    },
    "tags": []
   },
   "source": [
    "#  XGBClassifier\n",
    "---"
   ]
  },
  {
   "cell_type": "code",
   "execution_count": 7,
   "metadata": {
    "execution": {
     "iopub.execute_input": "2021-09-30T20:07:46.153874Z",
     "iopub.status.busy": "2021-09-30T20:07:46.153188Z",
     "iopub.status.idle": "2021-09-30T20:07:46.158767Z",
     "shell.execute_reply": "2021-09-30T20:07:46.157968Z",
     "shell.execute_reply.started": "2021-09-30T20:07:46.153840Z"
    },
    "papermill": {
     "duration": 0.021551,
     "end_time": "2021-09-28T14:05:28.087459",
     "exception": false,
     "start_time": "2021-09-28T14:05:28.065908",
     "status": "completed"
    },
    "tags": []
   },
   "outputs": [],
   "source": [
    "xgb_params = {\n",
    "    'eval_metric': 'auc', \n",
    "    'objective': 'binary:logistic', \n",
    "    'tree_method': 'gpu_hist', \n",
    "    'gpu_id': 0, \n",
    "    'predictor': 'gpu_predictor', \n",
    "    'n_estimators': 30000, \n",
    "    'learning_rate': 0.005, \n",
    "    'gamma': 0.25, \n",
    "    'max_depth': 4, \n",
    "    'min_child_weight': 378, \n",
    "    'subsample': 0.63, \n",
    "    'colsample_bytree': 0.77, \n",
    "    'colsample_bylevel': 0.87, \n",
    "    'lambda': 0.05, \n",
    "    'alpha': 10\n",
    "}\n"
   ]
  },
  {
   "cell_type": "code",
   "execution_count": 10,
   "metadata": {
    "execution": {
     "iopub.execute_input": "2021-09-30T20:09:37.771793Z",
     "iopub.status.busy": "2021-09-30T20:09:37.771318Z",
     "iopub.status.idle": "2021-09-30T20:48:05.113017Z",
     "shell.execute_reply": "2021-09-30T20:48:05.111577Z",
     "shell.execute_reply.started": "2021-09-30T20:09:37.771751Z"
    },
    "papermill": {
     "duration": 2560.407221,
     "end_time": "2021-09-28T14:48:08.507623",
     "exception": false,
     "start_time": "2021-09-28T14:05:28.100402",
     "status": "completed"
    },
    "tags": []
   },
   "outputs": [],
   "source": [
    "xgb_oof = np.zeros(train.shape[0])\n",
    "xgb_pred = np.zeros(test.shape[0])\n",
    "xgb_importances = pd.DataFrame()\n",
    "\n",
    "skf = StratifiedKFold(n_splits=5, shuffle=True)\n",
    "\n",
    "for fold, (trn_idx, val_idx) in enumerate(skf.split(X=train, y=target)):\n",
    "    print(f\">>> fold {fold} >>>\")\n",
    "    X_train = train[features].iloc[trn_idx]\n",
    "    y_train = target.iloc[trn_idx]\n",
    "    X_valid = train[features].iloc[val_idx]\n",
    "    y_valid = target.iloc[val_idx]\n",
    "    X_test = test[features]\n",
    "    \n",
    "    start = time.time()\n",
    "    model = XGBClassifier(**xgb_params)\n",
    "    model.fit(\n",
    "        X_train, \n",
    "        y_train,\n",
    "        eval_set=[(X_valid, y_valid)],                \n",
    "        verbose=1000,\n",
    "        early_stopping_rounds=2000 \n",
    "    )    \n",
    "    df_tmp = pd.DataFrame()\n",
    "    df_tmp['fold'] = fold\n",
    "    xgb_importances = xgb_importances.append(df_tmp)\n",
    "    xgb_oof[val_idx] = model.predict_proba(X_valid)[:, -1]\n",
    "    xgb_pred += model.predict_proba(X_test)[:, -1] / 5\n",
    "\n",
    "    elapsed = time.time() - start\n",
    "    auc = roc_auc_score(y_valid, xgb_oof[val_idx])\n",
    "    print(f\"fold {fold} - xgb auc: {auc:.6f}, elapsed time: {elapsed:.2f}sec\\n\")\n",
    "\n",
    "print(f\"oof xgb roc = {roc_auc_score(target, xgb_oof)}\")"
   ]
  },
  {
   "cell_type": "markdown",
   "metadata": {
    "papermill": {
     "duration": 0.071297,
     "end_time": "2021-09-28T14:48:08.657449",
     "exception": false,
     "start_time": "2021-09-28T14:48:08.586152",
     "status": "completed"
    },
    "tags": []
   },
   "source": [
    "# Submission\n",
    "---"
   ]
  },
  {
   "cell_type": "code",
   "execution_count": 1,
   "metadata": {
    "execution": {
     "iopub.execute_input": "2021-09-30T20:50:08.468160Z",
     "iopub.status.busy": "2021-09-30T20:50:08.467521Z",
     "iopub.status.idle": "2021-09-30T20:50:08.690378Z",
     "shell.execute_reply": "2021-09-30T20:50:08.689497Z",
     "shell.execute_reply.started": "2021-09-30T20:50:08.468038Z"
    },
    "papermill": {
     "duration": 1.799115,
     "end_time": "2021-09-28T14:48:10.526789",
     "exception": false,
     "start_time": "2021-09-28T14:48:08.727674",
     "status": "completed"
    },
    "tags": []
   },
   "outputs": [],
   "source": [
    "submission[target] = xgb_pred\n",
    "submission.to_csv(\"submission.csv\", index=False)"
   ]
  },
  {
   "cell_type": "code",
   "execution_count": null,
   "metadata": {},
   "outputs": [],
   "source": []
  }
 ],
 "metadata": {
  "kernelspec": {
   "display_name": "Python 3",
   "language": "python",
   "name": "python3"
  },
  "language_info": {
   "codemirror_mode": {
    "name": "ipython",
    "version": 3
   },
   "file_extension": ".py",
   "mimetype": "text/x-python",
   "name": "python",
   "nbconvert_exporter": "python",
   "pygments_lexer": "ipython3",
   "version": "3.8.8"
  }
 },
 "nbformat": 4,
 "nbformat_minor": 4
}
